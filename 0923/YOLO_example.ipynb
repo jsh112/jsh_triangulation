{
  "cells": [
    {
      "cell_type": "code",
      "execution_count": 4,
      "id": "f5adb8d6",
      "metadata": {
        "colab": {
          "base_uri": "https://localhost:8080/",
          "height": 192
        },
        "id": "f5adb8d6",
        "outputId": "bf811c2e-3590-4a02-b42c-032ce1b8bf3b"
      },
      "outputs": [
        {
          "output_type": "stream",
          "name": "stdout",
          "text": [
            "Cloning into 'jsh_triangulation'...\n",
            "remote: Enumerating objects: 766, done.\u001b[K\n",
            "remote: Counting objects:   1% (1/55)\u001b[K\rremote: Counting objects:   3% (2/55)\u001b[K\rremote: Counting objects:   5% (3/55)\u001b[K\rremote: Counting objects:   7% (4/55)\u001b[K\rremote: Counting objects:   9% (5/55)\u001b[K\rremote: Counting objects:  10% (6/55)\u001b[K\rremote: Counting objects:  12% (7/55)\u001b[K\rremote: Counting objects:  14% (8/55)\u001b[K\rremote: Counting objects:  16% (9/55)\u001b[K\rremote: Counting objects:  18% (10/55)\u001b[K\rremote: Counting objects:  20% (11/55)\u001b[K\rremote: Counting objects:  21% (12/55)\u001b[K\rremote: Counting objects:  23% (13/55)\u001b[K\rremote: Counting objects:  25% (14/55)\u001b[K\rremote: Counting objects:  27% (15/55)\u001b[K\rremote: Counting objects:  29% (16/55)\u001b[K\rremote: Counting objects:  30% (17/55)\u001b[K\rremote: Counting objects:  32% (18/55)\u001b[K\rremote: Counting objects:  34% (19/55)\u001b[K\rremote: Counting objects:  36% (20/55)\u001b[K\rremote: Counting objects:  38% (21/55)\u001b[K\rremote: Counting objects:  40% (22/55)\u001b[K\rremote: Counting objects:  41% (23/55)\u001b[K\rremote: Counting objects:  43% (24/55)\u001b[K\rremote: Counting objects:  45% (25/55)\u001b[K\rremote: Counting objects:  47% (26/55)\u001b[K\rremote: Counting objects:  49% (27/55)\u001b[K\rremote: Counting objects:  50% (28/55)\u001b[K\rremote: Counting objects:  52% (29/55)\u001b[K\rremote: Counting objects:  54% (30/55)\u001b[K\rremote: Counting objects:  56% (31/55)\u001b[K\rremote: Counting objects:  58% (32/55)\u001b[K\rremote: Counting objects:  60% (33/55)\u001b[K\rremote: Counting objects:  61% (34/55)\u001b[K\rremote: Counting objects:  63% (35/55)\u001b[K\rremote: Counting objects:  65% (36/55)\u001b[K\rremote: Counting objects:  67% (37/55)\u001b[K\rremote: Counting objects:  69% (38/55)\u001b[K\rremote: Counting objects:  70% (39/55)\u001b[K\rremote: Counting objects:  72% (40/55)\u001b[K\rremote: Counting objects:  74% (41/55)\u001b[K\rremote: Counting objects:  76% (42/55)\u001b[K\rremote: Counting objects:  78% (43/55)\u001b[K\rremote: Counting objects:  80% (44/55)\u001b[K\rremote: Counting objects:  81% (45/55)\u001b[K\rremote: Counting objects:  83% (46/55)\u001b[K\rremote: Counting objects:  85% (47/55)\u001b[K\rremote: Counting objects:  87% (48/55)\u001b[K\rremote: Counting objects:  89% (49/55)\u001b[K\rremote: Counting objects:  90% (50/55)\u001b[K\rremote: Counting objects:  92% (51/55)\u001b[K\rremote: Counting objects:  94% (52/55)\u001b[K\rremote: Counting objects:  96% (53/55)\u001b[K\rremote: Counting objects:  98% (54/55)\u001b[K\rremote: Counting objects: 100% (55/55)\u001b[K\rremote: Counting objects: 100% (55/55), done.\u001b[K\n",
            "remote: Compressing objects: 100% (41/41), done.\u001b[K\n",
            "remote: Total 766 (delta 24), reused 39 (delta 11), pack-reused 711 (from 1)\u001b[K\n",
            "Receiving objects: 100% (766/766), 78.20 MiB | 31.88 MiB/s, done.\n",
            "Resolving deltas: 100% (87/87), done.\n",
            "Updating files: 100% (1413/1413), done.\n",
            "/content/jsh_triangulation/0923\n"
          ]
        },
        {
          "output_type": "execute_result",
          "data": {
            "text/plain": [
              "'/content/jsh_triangulation/0923'"
            ],
            "application/vnd.google.colaboratory.intrinsic+json": {
              "type": "string"
            }
          },
          "metadata": {},
          "execution_count": 4
        }
      ],
      "source": [
        "!git clone https://github.com/jsh112/jsh_triangulation.git\n",
        "%cd /content/jsh_triangulation/0923"
      ]
    },
    {
      "cell_type": "code",
      "source": [
        "from google.colab import drive\n",
        "drive.mount('/content/drive')"
      ],
      "metadata": {
        "colab": {
          "base_uri": "https://localhost:8080/"
        },
        "id": "J1pvqjmhJQM9",
        "outputId": "baff556c-74f1-44a8-f19d-4c23e6d2e7c1"
      },
      "id": "J1pvqjmhJQM9",
      "execution_count": 3,
      "outputs": [
        {
          "output_type": "stream",
          "name": "stdout",
          "text": [
            "Mounted at /content/drive\n"
          ]
        }
      ]
    },
    {
      "cell_type": "code",
      "source": [
        "%pwd"
      ],
      "metadata": {
        "id": "TtLVoFALJs-j",
        "outputId": "37e19c5b-6d9b-4cb5-fb06-a85f3a3450a7",
        "colab": {
          "base_uri": "https://localhost:8080/",
          "height": 36
        }
      },
      "id": "TtLVoFALJs-j",
      "execution_count": 5,
      "outputs": [
        {
          "output_type": "execute_result",
          "data": {
            "text/plain": [
              "'/content/jsh_triangulation/0923'"
            ],
            "application/vnd.google.colaboratory.intrinsic+json": {
              "type": "string"
            }
          },
          "metadata": {},
          "execution_count": 5
        }
      ]
    },
    {
      "cell_type": "code",
      "execution_count": 18,
      "id": "7a320b31",
      "metadata": {
        "id": "7a320b31"
      },
      "outputs": [],
      "source": [
        "import cv2\n",
        "from config import *\n",
        "from pathlib import Path\n",
        "import stereo_utils as su\n",
        "import numpy as np"
      ]
    },
    {
      "cell_type": "code",
      "source": [
        "print(COLOR_MAP)"
      ],
      "metadata": {
        "id": "2sEFjeC6KK61",
        "outputId": "99824a9b-fbba-4102-8d57-3f07ed4b6b0a",
        "colab": {
          "base_uri": "https://localhost:8080/"
        }
      },
      "id": "2sEFjeC6KK61",
      "execution_count": 15,
      "outputs": [
        {
          "output_type": "stream",
          "name": "stdout",
          "text": [
            "{'Hold_Red': (0, 0, 255), 'Hold_Orange': (0, 165, 255), 'Hold_Yellow': (0, 255, 255), 'Hold_Green': (0, 255, 0), 'Hold_Blue': (255, 0, 0), 'Hold_Purple': (204, 50, 153), 'Hold_Pink': (203, 192, 255), 'Hold_Lime': (50, 255, 128), 'Hold_Sky': (255, 255, 0), 'Hold_White': (255, 255, 255), 'Hold_Black': (30, 30, 30), 'Hold_Gray': (150, 150, 150)}\n"
          ]
        }
      ]
    },
    {
      "cell_type": "code",
      "execution_count": 8,
      "id": "0f425b85",
      "metadata": {
        "colab": {
          "base_uri": "https://localhost:8080/"
        },
        "id": "0f425b85",
        "outputId": "a27e0556-8893-4e3f-8c92-8518e16476b8"
      },
      "outputs": [
        {
          "output_type": "stream",
          "name": "stdout",
          "text": [
            "[[  4.6485324   5.6207395   6.5929484 ... 611.5768    612.56036\n",
            "  613.54425  ]\n",
            " [  4.6616397   5.6339436   6.606248  ... 611.551     612.53467\n",
            "  613.5185   ]\n",
            " [  4.6748013   5.647201    6.6195993 ... 611.5253    612.509\n",
            "  613.4928   ]\n",
            " ...\n",
            " [  4.896723    5.8747587   6.8527136 ... 611.4233    612.4076\n",
            "  613.39215  ]\n",
            " [  4.88075     5.858746    6.8366623 ... 611.4502    612.4345\n",
            "  613.4191   ]\n",
            " [  4.8647704   5.8427253   6.8206024 ... 611.4772    612.46155\n",
            "  613.44617  ]] [[  5.37322     5.381636    5.390168  ...   4.7566347   4.738727\n",
            "    4.7208333]\n",
            " [  6.3350544   6.3435082   6.3520765 ...   5.721849    5.7039704\n",
            "    5.686105 ]\n",
            " [  7.2968364   7.3053255   7.3139286 ...   6.686917    6.6690674\n",
            "    6.6512313]\n",
            " ...\n",
            " [460.69174   460.66275   460.63373   ... 458.43607   458.46255\n",
            "  458.4891   ]\n",
            " [461.66537   461.63632   461.6073    ... 459.40857   459.43512\n",
            "  459.46173  ]\n",
            " [462.63916   462.6101    462.58102   ... 460.38132   460.40793\n",
            "  460.4346   ]] [[ 40.069874  40.750294  41.435257 ... 582.893    582.9032   582.89667 ]\n",
            " [ 39.894592  40.577644  41.2652   ... 583.43396  583.45184  583.4532  ]\n",
            " [ 39.721706  40.407364  41.097496 ... 583.96875  583.9943   584.00336 ]\n",
            " ...\n",
            " [ 33.75899   34.42034   35.086727 ... 578.98285  578.9292   578.8576  ]\n",
            " [ 33.93268   34.59101   35.254417 ... 578.37634  578.3141   578.23376 ]\n",
            " [ 34.109287  34.764572  35.42497  ... 577.7627   577.6918   577.6027  ]] [[ 30.992502  30.823254  30.65659  ...  51.170586  51.73028   52.298096]\n",
            " [ 31.739655  31.57282   31.408548 ...  51.62154   52.174767  52.73604 ]\n",
            " [ 32.489952  32.325504  32.163593 ...  52.079826  52.626648  53.181446]\n",
            " ...\n",
            " [456.69266  456.8884   457.08142  ... 443.92804  443.31955  442.70193 ]\n",
            " [457.4425   457.64096  457.83664  ... 444.32742  443.71146  443.08627 ]\n",
            " [458.18872  458.38995  458.58835  ... 444.7182   444.09464  443.46182 ]] [[779.23343885   0.         344.61024475   0.        ]\n",
            " [  0.         779.23343885 249.50656319   0.        ]\n",
            " [  0.           0.           1.           0.        ]] [[ 7.79233439e+02  0.00000000e+00  3.44610245e+02 -2.78186338e+05]\n",
            " [ 0.00000000e+00  7.79233439e+02  2.49506563e+02  0.00000000e+00]\n",
            " [ 0.00000000e+00  0.00000000e+00  1.00000000e+00  0.00000000e+00]] (640, 480) 357.00000000000006 [178.5   0.    0. ]\n"
          ]
        }
      ],
      "source": [
        "TMP_NPZ_PATH = Path(\"./calib_out/stereo_params_scaled.npz\")\n",
        "map1x, map1y, map2x, map2y, P1, P2, size, B, M = su.load_stereo(TMP_NPZ_PATH)\n",
        "selected_class_name = 'Hold_Green'\n",
        "print(map1x, map1y, map2x, map2y, P1, P2, size, B, M)"
      ]
    },
    {
      "cell_type": "code",
      "execution_count": 9,
      "id": "806b49e9",
      "metadata": {
        "colab": {
          "base_uri": "https://localhost:8080/"
        },
        "id": "806b49e9",
        "outputId": "af8293c8-d0d2-4e70-eba5-13f06bea1cbb"
      },
      "outputs": [
        {
          "output_type": "stream",
          "name": "stdout",
          "text": [
            "Collecting ultralytics\n",
            "  Downloading ultralytics-8.3.203-py3-none-any.whl.metadata (37 kB)\n",
            "Requirement already satisfied: numpy>=1.23.0 in /usr/local/lib/python3.12/dist-packages (from ultralytics) (2.0.2)\n",
            "Requirement already satisfied: matplotlib>=3.3.0 in /usr/local/lib/python3.12/dist-packages (from ultralytics) (3.10.0)\n",
            "Requirement already satisfied: opencv-python>=4.6.0 in /usr/local/lib/python3.12/dist-packages (from ultralytics) (4.12.0.88)\n",
            "Requirement already satisfied: pillow>=7.1.2 in /usr/local/lib/python3.12/dist-packages (from ultralytics) (11.3.0)\n",
            "Requirement already satisfied: pyyaml>=5.3.1 in /usr/local/lib/python3.12/dist-packages (from ultralytics) (6.0.2)\n",
            "Requirement already satisfied: requests>=2.23.0 in /usr/local/lib/python3.12/dist-packages (from ultralytics) (2.32.4)\n",
            "Requirement already satisfied: scipy>=1.4.1 in /usr/local/lib/python3.12/dist-packages (from ultralytics) (1.16.2)\n",
            "Requirement already satisfied: torch>=1.8.0 in /usr/local/lib/python3.12/dist-packages (from ultralytics) (2.8.0+cu126)\n",
            "Requirement already satisfied: torchvision>=0.9.0 in /usr/local/lib/python3.12/dist-packages (from ultralytics) (0.23.0+cu126)\n",
            "Requirement already satisfied: psutil in /usr/local/lib/python3.12/dist-packages (from ultralytics) (5.9.5)\n",
            "Requirement already satisfied: polars in /usr/local/lib/python3.12/dist-packages (from ultralytics) (1.25.2)\n",
            "Collecting ultralytics-thop>=2.0.0 (from ultralytics)\n",
            "  Downloading ultralytics_thop-2.0.17-py3-none-any.whl.metadata (14 kB)\n",
            "Requirement already satisfied: contourpy>=1.0.1 in /usr/local/lib/python3.12/dist-packages (from matplotlib>=3.3.0->ultralytics) (1.3.3)\n",
            "Requirement already satisfied: cycler>=0.10 in /usr/local/lib/python3.12/dist-packages (from matplotlib>=3.3.0->ultralytics) (0.12.1)\n",
            "Requirement already satisfied: fonttools>=4.22.0 in /usr/local/lib/python3.12/dist-packages (from matplotlib>=3.3.0->ultralytics) (4.60.0)\n",
            "Requirement already satisfied: kiwisolver>=1.3.1 in /usr/local/lib/python3.12/dist-packages (from matplotlib>=3.3.0->ultralytics) (1.4.9)\n",
            "Requirement already satisfied: packaging>=20.0 in /usr/local/lib/python3.12/dist-packages (from matplotlib>=3.3.0->ultralytics) (25.0)\n",
            "Requirement already satisfied: pyparsing>=2.3.1 in /usr/local/lib/python3.12/dist-packages (from matplotlib>=3.3.0->ultralytics) (3.2.4)\n",
            "Requirement already satisfied: python-dateutil>=2.7 in /usr/local/lib/python3.12/dist-packages (from matplotlib>=3.3.0->ultralytics) (2.9.0.post0)\n",
            "Requirement already satisfied: charset_normalizer<4,>=2 in /usr/local/lib/python3.12/dist-packages (from requests>=2.23.0->ultralytics) (3.4.3)\n",
            "Requirement already satisfied: idna<4,>=2.5 in /usr/local/lib/python3.12/dist-packages (from requests>=2.23.0->ultralytics) (3.10)\n",
            "Requirement already satisfied: urllib3<3,>=1.21.1 in /usr/local/lib/python3.12/dist-packages (from requests>=2.23.0->ultralytics) (2.5.0)\n",
            "Requirement already satisfied: certifi>=2017.4.17 in /usr/local/lib/python3.12/dist-packages (from requests>=2.23.0->ultralytics) (2025.8.3)\n",
            "Requirement already satisfied: filelock in /usr/local/lib/python3.12/dist-packages (from torch>=1.8.0->ultralytics) (3.19.1)\n",
            "Requirement already satisfied: typing-extensions>=4.10.0 in /usr/local/lib/python3.12/dist-packages (from torch>=1.8.0->ultralytics) (4.15.0)\n",
            "Requirement already satisfied: setuptools in /usr/local/lib/python3.12/dist-packages (from torch>=1.8.0->ultralytics) (75.2.0)\n",
            "Requirement already satisfied: sympy>=1.13.3 in /usr/local/lib/python3.12/dist-packages (from torch>=1.8.0->ultralytics) (1.13.3)\n",
            "Requirement already satisfied: networkx in /usr/local/lib/python3.12/dist-packages (from torch>=1.8.0->ultralytics) (3.5)\n",
            "Requirement already satisfied: jinja2 in /usr/local/lib/python3.12/dist-packages (from torch>=1.8.0->ultralytics) (3.1.6)\n",
            "Requirement already satisfied: fsspec in /usr/local/lib/python3.12/dist-packages (from torch>=1.8.0->ultralytics) (2025.3.0)\n",
            "Requirement already satisfied: nvidia-cuda-nvrtc-cu12==12.6.77 in /usr/local/lib/python3.12/dist-packages (from torch>=1.8.0->ultralytics) (12.6.77)\n",
            "Requirement already satisfied: nvidia-cuda-runtime-cu12==12.6.77 in /usr/local/lib/python3.12/dist-packages (from torch>=1.8.0->ultralytics) (12.6.77)\n",
            "Requirement already satisfied: nvidia-cuda-cupti-cu12==12.6.80 in /usr/local/lib/python3.12/dist-packages (from torch>=1.8.0->ultralytics) (12.6.80)\n",
            "Requirement already satisfied: nvidia-cudnn-cu12==9.10.2.21 in /usr/local/lib/python3.12/dist-packages (from torch>=1.8.0->ultralytics) (9.10.2.21)\n",
            "Requirement already satisfied: nvidia-cublas-cu12==12.6.4.1 in /usr/local/lib/python3.12/dist-packages (from torch>=1.8.0->ultralytics) (12.6.4.1)\n",
            "Requirement already satisfied: nvidia-cufft-cu12==11.3.0.4 in /usr/local/lib/python3.12/dist-packages (from torch>=1.8.0->ultralytics) (11.3.0.4)\n",
            "Requirement already satisfied: nvidia-curand-cu12==10.3.7.77 in /usr/local/lib/python3.12/dist-packages (from torch>=1.8.0->ultralytics) (10.3.7.77)\n",
            "Requirement already satisfied: nvidia-cusolver-cu12==11.7.1.2 in /usr/local/lib/python3.12/dist-packages (from torch>=1.8.0->ultralytics) (11.7.1.2)\n",
            "Requirement already satisfied: nvidia-cusparse-cu12==12.5.4.2 in /usr/local/lib/python3.12/dist-packages (from torch>=1.8.0->ultralytics) (12.5.4.2)\n",
            "Requirement already satisfied: nvidia-cusparselt-cu12==0.7.1 in /usr/local/lib/python3.12/dist-packages (from torch>=1.8.0->ultralytics) (0.7.1)\n",
            "Requirement already satisfied: nvidia-nccl-cu12==2.27.3 in /usr/local/lib/python3.12/dist-packages (from torch>=1.8.0->ultralytics) (2.27.3)\n",
            "Requirement already satisfied: nvidia-nvtx-cu12==12.6.77 in /usr/local/lib/python3.12/dist-packages (from torch>=1.8.0->ultralytics) (12.6.77)\n",
            "Requirement already satisfied: nvidia-nvjitlink-cu12==12.6.85 in /usr/local/lib/python3.12/dist-packages (from torch>=1.8.0->ultralytics) (12.6.85)\n",
            "Requirement already satisfied: nvidia-cufile-cu12==1.11.1.6 in /usr/local/lib/python3.12/dist-packages (from torch>=1.8.0->ultralytics) (1.11.1.6)\n",
            "Requirement already satisfied: triton==3.4.0 in /usr/local/lib/python3.12/dist-packages (from torch>=1.8.0->ultralytics) (3.4.0)\n",
            "Requirement already satisfied: six>=1.5 in /usr/local/lib/python3.12/dist-packages (from python-dateutil>=2.7->matplotlib>=3.3.0->ultralytics) (1.17.0)\n",
            "Requirement already satisfied: mpmath<1.4,>=1.1.0 in /usr/local/lib/python3.12/dist-packages (from sympy>=1.13.3->torch>=1.8.0->ultralytics) (1.3.0)\n",
            "Requirement already satisfied: MarkupSafe>=2.0 in /usr/local/lib/python3.12/dist-packages (from jinja2->torch>=1.8.0->ultralytics) (3.0.2)\n",
            "Downloading ultralytics-8.3.203-py3-none-any.whl (1.1 MB)\n",
            "\u001b[2K   \u001b[90m━━━━━━━━━━━━━━━━━━━━━━━━━━━━━━━━━━━━━━━━\u001b[0m \u001b[32m1.1/1.1 MB\u001b[0m \u001b[31m61.9 MB/s\u001b[0m eta \u001b[36m0:00:00\u001b[0m\n",
            "\u001b[?25hDownloading ultralytics_thop-2.0.17-py3-none-any.whl (28 kB)\n",
            "Installing collected packages: ultralytics-thop, ultralytics\n",
            "Successfully installed ultralytics-8.3.203 ultralytics-thop-2.0.17\n"
          ]
        }
      ],
      "source": [
        "# pip install 들어와야할 자리\n",
        "!pip install ultralytics"
      ]
    },
    {
      "cell_type": "code",
      "execution_count": 10,
      "id": "467e7a45",
      "metadata": {
        "id": "467e7a45"
      },
      "outputs": [],
      "source": [
        "def extract_holds_with_indices(frame_bgr, model, selected_class_name=None,\n",
        "                               mask_thresh=0.7, row_tol=50):\n",
        "    h, w = frame_bgr.shape[:2]\n",
        "    res = model(frame_bgr)[0]\n",
        "    holds = []\n",
        "    if res.masks is None: return []\n",
        "    masks = res.masks.data; boxes = res.boxes; names = model.names\n",
        "    print(f\"[dbg] masks={tuple(res.masks.data.shape)} | frame={(h,w)}\")\n",
        "    for i in range(masks.shape[0]):\n",
        "        mask = masks[i].cpu().numpy()\n",
        "        mask_rs = cv2.resize(mask, (w, h), interpolation=cv2.INTER_NEAREST)\n",
        "        binary = (mask_rs > mask_thresh).astype(np.uint8) * 255\n",
        "        contours, _ = cv2.findContours(binary, cv2.RETR_EXTERNAL, cv2.CHAIN_APPROX_SIMPLE)\n",
        "        if not contours: continue\n",
        "        contour = max(contours, key=cv2.contourArea)\n",
        "        cls_id = int(boxes.cls[i].item()); conf = float(boxes.conf[i].item())\n",
        "        class_name = names[cls_id]\n",
        "        if (selected_class_name is not None) and (class_name != selected_class_name):\n",
        "            continue\n",
        "        Mom = cv2.moments(contour)\n",
        "        if Mom[\"m00\"] == 0: continue\n",
        "        cx = int(Mom[\"m10\"]/Mom[\"m00\"]); cy = int(Mom[\"m01\"]/Mom[\"m00\"])\n",
        "        holds.append({\"class_name\": class_name, \"color\": COLOR_MAP.get(class_name,(255,255,255)),\n",
        "                      \"contour\": contour, \"center\": (cx, cy), \"conf\": conf})\n",
        "    if not holds: return []\n",
        "    enriched = [{\"cx\": h_[\"center\"][0], \"cy\": h_[\"center\"][1], **h_} for h_ in holds]\n",
        "    enriched.sort(key=lambda h: h[\"cy\"])\n",
        "    rows, cur = [], [enriched[0]]\n",
        "    for h_ in enriched[1:]:\n",
        "        if abs(h_[\"cy\"] - cur[0][\"cy\"]) < row_tol: cur.append(h_)\n",
        "        else: rows.append(cur); cur = [h_]\n",
        "    rows.append(cur)\n",
        "    final_sorted = []\n",
        "    for row in rows:\n",
        "        row.sort(key=lambda h: h[\"cx\"])\n",
        "        final_sorted.extend(row)\n",
        "    for idx, h_ in enumerate(final_sorted):\n",
        "        h_[\"hold_index\"] = idx\n",
        "    return final_sorted\n",
        "\n",
        "def assign_indices(holds, row_tol=50):\n",
        "    if not holds:\n",
        "        return []\n",
        "    enriched = [{\"cx\": h[\"center\"][0], \"cy\": h[\"center\"][1], **h} for h in holds]\n",
        "    enriched.sort(key=lambda h: h[\"cy\"])\n",
        "    rows, cur = [], [enriched[0]]\n",
        "    for h_ in enriched[1:]:\n",
        "        if abs(h_[\"cy\"] - cur[0][\"cy\"]) < row_tol: cur.append(h_)\n",
        "        else: rows.append(cur); cur = [h_]\n",
        "    rows.append(cur)\n",
        "    final_sorted = []\n",
        "    for row in rows:\n",
        "        row.sort(key=lambda h: h[\"cx\"])\n",
        "        final_sorted.extend(row)\n",
        "    for idx, h_ in enumerate(final_sorted):\n",
        "        h_[\"hold_index\"] = idx\n",
        "    return final_sorted\n",
        "\n",
        "\n",
        "def merge_holds_by_center(holds_lists, merge_dist_px=18):\n",
        "    merged = []\n",
        "    for holds in holds_lists:\n",
        "        for h in holds:\n",
        "            h = {k: v for k, v in h.items()}  # shallow copy\n",
        "            h.pop(\"hold_index\", None)         # 인덱스는 최종에 재부여\n",
        "            assigned = False\n",
        "            for m in merged:\n",
        "                dx = h[\"center\"][0] - m[\"center\"][0]\n",
        "                dy = h[\"center\"][1] - m[\"center\"][1]\n",
        "                if (dx*dx + dy*dy) ** 0.5 <= merge_dist_px:\n",
        "                    # 대표 갱신 기준: 면적 우선, 비슷하면 conf 큰 것\n",
        "                    area_h = cv2.contourArea(h[\"contour\"])\n",
        "                    area_m = cv2.contourArea(m[\"contour\"])\n",
        "                    if (area_h > area_m) or (abs(area_h - area_m) < 1e-6 and h.get(\"conf\",0) > m.get(\"conf\",0)):\n",
        "                        m.update(h)\n",
        "                    assigned = True\n",
        "                    break\n",
        "            if not assigned:\n",
        "                merged.append(h)\n",
        "    return merged"
      ]
    },
    {
      "cell_type": "code",
      "execution_count": 11,
      "id": "6b5dc07f",
      "metadata": {
        "colab": {
          "base_uri": "https://localhost:8080/"
        },
        "id": "6b5dc07f",
        "outputId": "ac043d8d-f60c-4d01-a5f6-c8b40efffe6c"
      },
      "outputs": [
        {
          "output_type": "stream",
          "name": "stdout",
          "text": [
            "Creating new Ultralytics Settings v0.0.6 file ✅ \n",
            "View Ultralytics Settings with 'yolo settings' or at '/root/.config/Ultralytics/settings.json'\n",
            "Update Settings with 'yolo settings key=value', i.e. 'yolo settings runs_dir=path/to/dir'. For help see https://docs.ultralytics.com/quickstart/#ultralytics-settings.\n"
          ]
        }
      ],
      "source": [
        "from ultralytics import YOLO\n",
        "from pathlib import Path\n",
        "model = YOLO(\"./models/best_6.pt\")"
      ]
    },
    {
      "cell_type": "code",
      "execution_count": 12,
      "id": "90b77ab3",
      "metadata": {
        "id": "90b77ab3"
      },
      "outputs": [],
      "source": [
        "L_dir = Path(\"rectified_frames_L\")\n",
        "R_dir = Path(\"rectified_frames_R\")\n",
        "\n",
        "L_images = sorted(list(L_dir.glob(\"L_*.png\")))\n",
        "R_images = sorted(list(R_dir.glob(\"R_*.png\")))\n",
        "\n",
        "L_sets, R_sets = [], []"
      ]
    },
    {
      "cell_type": "code",
      "execution_count": 13,
      "id": "5af58cb5",
      "metadata": {
        "id": "5af58cb5"
      },
      "outputs": [],
      "source": [
        "for k, (L_path, R_path) in enumerate(zip(L_images, R_images)):\n",
        "    Lr_k = cv2.imread(str(L_path))\n",
        "    Rr_k = cv2.imread(str(R_path))\n",
        "\n",
        "    holdsL_k = extract_holds_with_indices(Lr_k, model, selected_class_name, THRESH_MASK, ROW_TOL_Y)\n",
        "    holdsR_k = extract_holds_with_indices(Rr_k, model, selected_class_name, THRESH_MASK, ROW_TOL_Y)\n",
        "\n",
        "    L_sets.append(holdsL_k)\n",
        "    R_sets.append(holdsR_k)\n",
        "\n",
        "    print(f\"  - frame {k+1}/{len(L_images)}: L={len(holdsL_k)}  R={len(holdsR_k)}\")\n"
      ]
    },
    {
      "cell_type": "code",
      "execution_count": 14,
      "id": "644c9b39",
      "metadata": {
        "colab": {
          "base_uri": "https://localhost:8080/"
        },
        "id": "644c9b39",
        "outputId": "74a1dccc-24d7-4d24-88bb-fb4321be54f1"
      },
      "outputs": [
        {
          "output_type": "stream",
          "name": "stdout",
          "text": [
            "[Warn] 한쪽 또는 양쪽에서 홀드가 검출되지 않았습니다.\n"
          ]
        }
      ],
      "source": [
        "holdsL = assign_indices(merge_holds_by_center(L_sets, CENTER_MERGE_PX), ROW_TOL_Y)\n",
        "holdsR = assign_indices(merge_holds_by_center(R_sets, CENTER_MERGE_PX), ROW_TOL_Y)\n",
        "\n",
        "if not holdsL or not holdsR:\n",
        "    print(\"[Warn] 한쪽 또는 양쪽에서 홀드가 검출되지 않았습니다.\")"
      ]
    },
    {
      "cell_type": "code",
      "execution_count": 16,
      "id": "690b8eb0",
      "metadata": {
        "colab": {
          "base_uri": "https://localhost:8080/"
        },
        "id": "690b8eb0",
        "outputId": "c495fd7d-a3c4-4144-830c-af83e12dff52"
      },
      "outputs": [
        {
          "output_type": "stream",
          "name": "stdout",
          "text": [
            "[Warn] 좌/우 공통 hold_index가 없습니다.\n"
          ]
        }
      ],
      "source": [
        "# index → hold 맵 & 공통 ID\n",
        "idxL = {h[\"hold_index\"]: h for h in holdsL}\n",
        "idxR = {h[\"hold_index\"]: h for h in holdsR}\n",
        "common_ids = sorted(set(idxL.keys()) & set(idxR.keys()))\n",
        "if not common_ids:\n",
        "    print(\"[Warn] 좌/우 공통 hold_index가 없습니다.\")\n",
        "else:\n",
        "    print(f\"[Info] 매칭된 홀드 쌍 수: {len(common_ids)}\")"
      ]
    },
    {
      "cell_type": "code",
      "execution_count": 19,
      "id": "a6467a5a",
      "metadata": {
        "id": "a6467a5a"
      },
      "outputs": [],
      "source": [
        "def yaw_pitch_from_X(X, O, y_up_is_negative=True):\n",
        "    v = X - O\n",
        "    vx, vy, vz = float(v[0]), float(v[1]), float(v[2])\n",
        "    yaw   = np.degrees(np.arctan2(vx, vz))\n",
        "    pitch = np.degrees(np.arctan2((-vy if y_up_is_negative else vy), np.hypot(vx, vz)))\n",
        "    return yaw, pitch\n",
        "\n",
        "def triangulate_xy(P1, P2, ptL, ptR):\n",
        "    xl = np.array(ptL, dtype=np.float64).reshape(2,1)\n",
        "    xr = np.array(ptR, dtype=np.float64).reshape(2,1)\n",
        "    Xh = cv2.triangulatePoints(P1, P2, xl, xr)\n",
        "    X  = (Xh[:3] / Xh[3]).reshape(3)  # [X,Y,Z] (mm)\n",
        "    return X\n",
        "\n",
        "def wrap_deg(d): return (d + 180.0) % 360.0 - 180.0\n",
        "\n",
        "def angle_between(v1, v2):\n",
        "    a = np.linalg.norm(v1); b = np.linalg.norm(v2)\n",
        "    if a == 0 or b == 0: return 0.0\n",
        "    cosang = np.clip(np.dot(v1, v2) / (a * b), -1.0, 1.0)\n",
        "    return np.degrees(np.arccos(cosang))"
      ]
    },
    {
      "cell_type": "code",
      "execution_count": 20,
      "id": "b217f23c",
      "metadata": {
        "id": "b217f23c"
      },
      "outputs": [],
      "source": [
        "# 매칭 결과 사전 계산(3D, 거리, 각도) — LEFT 원점 기반\n",
        "matched_results = []\n",
        "for hid in common_ids:\n",
        "    Lh = idxL[hid]; Rh = idxR[hid]\n",
        "    X = triangulate_xy(P1, P2, Lh[\"center\"], Rh[\"center\"])\n",
        "    d_left  = float(np.linalg.norm(X - L))            # LEFT 기준 거리\n",
        "    d_line  = float(np.hypot(X[1], X[2]))\n",
        "    yaw_deg, pitch_deg = yaw_pitch_from_X(X, O, Y_UP_IS_NEGATIVE)\n",
        "    matched_results.append({\n",
        "        \"hid\": hid,\n",
        "        \"Lcx\": Lh[\"center\"][0], \"Lcy\": Lh[\"center\"][1],\n",
        "        \"Rcx\": Rh[\"center\"][0], \"Rcy\": Rh[\"center\"][1],\n",
        "        \"color\": Lh[\"color\"],\n",
        "        \"X\": X, \"d_left\": d_left, \"d_line\": d_line,\n",
        "        \"yaw_deg\": yaw_deg, \"pitch_deg\": pitch_deg,\n",
        "    })"
      ]
    },
    {
      "cell_type": "code",
      "execution_count": 21,
      "id": "baccffad",
      "metadata": {
        "id": "baccffad"
      },
      "outputs": [],
      "source": [
        "# 연속 인덱스 각도차 (정보용)\n",
        "by_id = {mr[\"hid\"]: mr for mr in matched_results}\n",
        "max_id = max(by_id) if by_id else -1\n",
        "angle_deltas = []\n",
        "for i in range(max_id):\n",
        "    if (i in by_id) and (i+1 in by_id):\n",
        "        a = by_id[i]; b = by_id[i+1]\n",
        "        dyaw   = wrap_deg(b[\"yaw_deg\"]   - a[\"yaw_deg\"])\n",
        "        dpitch = wrap_deg(b[\"pitch_deg\"] - a[\"pitch_deg\"])\n",
        "        v1 = a[\"X\"] - O; v2 = b[\"X\"] - O\n",
        "        d3d = angle_between(v1, v2)\n",
        "        angle_deltas.append((i, i+1, dyaw, dpitch, d3d))\n",
        "\n",
        "\n",
        "    print(\"\\n[ΔAngles] (i -> i+1):  Δyaw(deg), Δpitch(deg), 3D_angle(deg)\")\n",
        "    for i, j, dyaw, dpitch, d3d in angle_deltas:\n",
        "        print(f\"  {i:>2}→{j:<2} :  {dyaw:+6.2f}°, {dpitch:+6.2f}°, {d3d:6.2f}°\")"
      ]
    },
    {
      "cell_type": "code",
      "source": [],
      "metadata": {
        "id": "3btOR5GaKUXU"
      },
      "id": "3btOR5GaKUXU",
      "execution_count": null,
      "outputs": []
    }
  ],
  "metadata": {
    "language_info": {
      "name": "python"
    },
    "colab": {
      "provenance": []
    },
    "kernelspec": {
      "name": "python3",
      "display_name": "Python 3"
    }
  },
  "nbformat": 4,
  "nbformat_minor": 5
}