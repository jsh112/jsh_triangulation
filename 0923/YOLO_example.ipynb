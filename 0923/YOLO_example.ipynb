{
  "cells": [
    {
      "cell_type": "code",
      "execution_count": 1,
      "id": "f5adb8d6",
      "metadata": {
        "id": "f5adb8d6",
        "outputId": "598558e3-1126-4329-cb2d-c40f8542eed0",
        "colab": {
          "base_uri": "https://localhost:8080/"
        }
      },
      "outputs": [
        {
          "output_type": "stream",
          "name": "stdout",
          "text": [
            "Cloning into 'jsh_triangulation'...\n",
            "remote: Enumerating objects: 762, done.\u001b[K\n",
            "remote: Counting objects: 100% (51/51), done.\u001b[K\n",
            "remote: Compressing objects: 100% (36/36), done.\u001b[K\n",
            "remote: Total 762 (delta 21), reused 42 (delta 12), pack-reused 711 (from 1)\u001b[K\n",
            "Receiving objects: 100% (762/762), 78.20 MiB | 29.59 MiB/s, done.\n",
            "Resolving deltas: 100% (84/84), done.\n",
            "Updating files: 100% (1413/1413), done.\n",
            "/content/jsh_triangulation/0923\n"
          ]
        }
      ],
      "source": [
        "!git clone https://github.com/jsh112/jsh_triangulation.git\n",
        "%cd /content/jsh_triangulation/0923"
      ]
    },
    {
      "cell_type": "code",
      "source": [
        "from google.colab import drive\n",
        "drive.mount('/content/drive')"
      ],
      "metadata": {
        "id": "J1pvqjmhJQM9"
      },
      "id": "J1pvqjmhJQM9",
      "execution_count": null,
      "outputs": []
    },
    {
      "cell_type": "code",
      "execution_count": null,
      "id": "7a320b31",
      "metadata": {
        "id": "7a320b31"
      },
      "outputs": [],
      "source": [
        "import cv2\n",
        "from config import *\n",
        "from pathlib import Path\n",
        "import stereo_utils as su"
      ]
    },
    {
      "cell_type": "code",
      "execution_count": null,
      "id": "0f425b85",
      "metadata": {
        "id": "0f425b85"
      },
      "outputs": [],
      "source": [
        "TMP_NPZ_PATH = Path(\"./calib_out/stereo_params_scaled.npz\")\n",
        "map1x, map1y, map2x, map2y, P1, P2, size, B, M = su.load_stereo(TMP_NPZ_PATH)\n",
        "selected_class_name = 'Hold_Green'"
      ]
    },
    {
      "cell_type": "code",
      "execution_count": null,
      "id": "806b49e9",
      "metadata": {
        "id": "806b49e9"
      },
      "outputs": [],
      "source": [
        "# pip install 들어와야할 자리\n",
        "!pip install ultralytics"
      ]
    },
    {
      "cell_type": "code",
      "execution_count": null,
      "id": "467e7a45",
      "metadata": {
        "id": "467e7a45"
      },
      "outputs": [],
      "source": [
        "def extract_holds_with_indices(frame_bgr, model, selected_class_name=None,\n",
        "                               mask_thresh=0.7, row_tol=50):\n",
        "    h, w = frame_bgr.shape[:2]\n",
        "    res = model(frame_bgr)[0]\n",
        "    holds = []\n",
        "    if res.masks is None: return []\n",
        "    masks = res.masks.data; boxes = res.boxes; names = model.names\n",
        "    print(f\"[dbg] masks={tuple(res.masks.data.shape)} | frame={(h,w)}\")\n",
        "    for i in range(masks.shape[0]):\n",
        "        mask = masks[i].cpu().numpy()\n",
        "        mask_rs = cv2.resize(mask, (w, h), interpolation=cv2.INTER_NEAREST)\n",
        "        binary = (mask_rs > mask_thresh).astype(np.uint8) * 255\n",
        "        contours, _ = cv2.findContours(binary, cv2.RETR_EXTERNAL, cv2.CHAIN_APPROX_SIMPLE)\n",
        "        if not contours: continue\n",
        "        contour = max(contours, key=cv2.contourArea)\n",
        "        cls_id = int(boxes.cls[i].item()); conf = float(boxes.conf[i].item())\n",
        "        class_name = names[cls_id]\n",
        "        if (selected_class_name is not None) and (class_name != selected_class_name):\n",
        "            continue\n",
        "        Mom = cv2.moments(contour)\n",
        "        if Mom[\"m00\"] == 0: continue\n",
        "        cx = int(Mom[\"m10\"]/Mom[\"m00\"]); cy = int(Mom[\"m01\"]/Mom[\"m00\"])\n",
        "        holds.append({\"class_name\": class_name, \"color\": COLOR_MAP.get(class_name,(255,255,255)),\n",
        "                      \"contour\": contour, \"center\": (cx, cy), \"conf\": conf})\n",
        "    if not holds: return []\n",
        "    enriched = [{\"cx\": h_[\"center\"][0], \"cy\": h_[\"center\"][1], **h_} for h_ in holds]\n",
        "    enriched.sort(key=lambda h: h[\"cy\"])\n",
        "    rows, cur = [], [enriched[0]]\n",
        "    for h_ in enriched[1:]:\n",
        "        if abs(h_[\"cy\"] - cur[0][\"cy\"]) < row_tol: cur.append(h_)\n",
        "        else: rows.append(cur); cur = [h_]\n",
        "    rows.append(cur)\n",
        "    final_sorted = []\n",
        "    for row in rows:\n",
        "        row.sort(key=lambda h: h[\"cx\"])\n",
        "        final_sorted.extend(row)\n",
        "    for idx, h_ in enumerate(final_sorted):\n",
        "        h_[\"hold_index\"] = idx\n",
        "    return final_sorted\n",
        "\n",
        "def assign_indices(holds, row_tol=50):\n",
        "    if not holds:\n",
        "        return []\n",
        "    enriched = [{\"cx\": h[\"center\"][0], \"cy\": h[\"center\"][1], **h} for h in holds]\n",
        "    enriched.sort(key=lambda h: h[\"cy\"])\n",
        "    rows, cur = [], [enriched[0]]\n",
        "    for h_ in enriched[1:]:\n",
        "        if abs(h_[\"cy\"] - cur[0][\"cy\"]) < row_tol: cur.append(h_)\n",
        "        else: rows.append(cur); cur = [h_]\n",
        "    rows.append(cur)\n",
        "    final_sorted = []\n",
        "    for row in rows:\n",
        "        row.sort(key=lambda h: h[\"cx\"])\n",
        "        final_sorted.extend(row)\n",
        "    for idx, h_ in enumerate(final_sorted):\n",
        "        h_[\"hold_index\"] = idx\n",
        "    return final_sorted\n",
        "\n",
        "\n",
        "def merge_holds_by_center(holds_lists, merge_dist_px=18):\n",
        "    merged = []\n",
        "    for holds in holds_lists:\n",
        "        for h in holds:\n",
        "            h = {k: v for k, v in h.items()}  # shallow copy\n",
        "            h.pop(\"hold_index\", None)         # 인덱스는 최종에 재부여\n",
        "            assigned = False\n",
        "            for m in merged:\n",
        "                dx = h[\"center\"][0] - m[\"center\"][0]\n",
        "                dy = h[\"center\"][1] - m[\"center\"][1]\n",
        "                if (dx*dx + dy*dy) ** 0.5 <= merge_dist_px:\n",
        "                    # 대표 갱신 기준: 면적 우선, 비슷하면 conf 큰 것\n",
        "                    area_h = cv2.contourArea(h[\"contour\"])\n",
        "                    area_m = cv2.contourArea(m[\"contour\"])\n",
        "                    if (area_h > area_m) or (abs(area_h - area_m) < 1e-6 and h.get(\"conf\",0) > m.get(\"conf\",0)):\n",
        "                        m.update(h)\n",
        "                    assigned = True\n",
        "                    break\n",
        "            if not assigned:\n",
        "                merged.append(h)\n",
        "    return merged"
      ]
    },
    {
      "cell_type": "code",
      "execution_count": null,
      "id": "6b5dc07f",
      "metadata": {
        "id": "6b5dc07f"
      },
      "outputs": [],
      "source": [
        "from ultralytics import YOLO\n",
        "from pathlib import Path\n",
        "model = YOLO(\"./models/best_6.pt\")"
      ]
    },
    {
      "cell_type": "code",
      "execution_count": null,
      "id": "90b77ab3",
      "metadata": {
        "id": "90b77ab3"
      },
      "outputs": [],
      "source": [
        "L_dir = Path(\"rectified_frames_L\")\n",
        "R_dir = Path(\"rectified_frames_R\")\n",
        "\n",
        "L_images = sorted(list(L_dir.glob(\"L_*.png\")))\n",
        "R_images = sorted(list(R_dir.glob(\"R_*.png\")))\n",
        "\n",
        "L_sets, R_sets = [], []"
      ]
    },
    {
      "cell_type": "code",
      "execution_count": null,
      "id": "5af58cb5",
      "metadata": {
        "id": "5af58cb5"
      },
      "outputs": [],
      "source": [
        "for k, (L_path, R_path) in enumerate(zip(L_images, R_images)):\n",
        "    Lr_k = cv2.imread(str(L_path))\n",
        "    Rr_k = cv2.imread(str(R_path))\n",
        "\n",
        "    holdsL_k = extract_holds_with_indices(Lr_k, model, selected_class_name, THRESH_MASK, ROW_TOL_Y)\n",
        "    holdsR_k = extract_holds_with_indices(Rr_k, model, selected_class_name, THRESH_MASK, ROW_TOL_Y)\n",
        "\n",
        "    L_sets.append(holdsL_k)\n",
        "    R_sets.append(holdsR_k)\n",
        "\n",
        "    print(f\"  - frame {k+1}/{len(L_images)}: L={len(holdsL_k)}  R={len(holdsR_k)}\")\n"
      ]
    },
    {
      "cell_type": "code",
      "execution_count": null,
      "id": "644c9b39",
      "metadata": {
        "id": "644c9b39"
      },
      "outputs": [],
      "source": [
        "holdsL = assign_indices(merge_holds_by_center(L_sets, CENTER_MERGE_PX), ROW_TOL_Y)\n",
        "holdsR = assign_indices(merge_holds_by_center(R_sets, CENTER_MERGE_PX), ROW_TOL_Y)\n",
        "\n",
        "if not holdsL or not holdsR:\n",
        "    print(\"[Warn] 한쪽 또는 양쪽에서 홀드가 검출되지 않았습니다.\")"
      ]
    },
    {
      "cell_type": "code",
      "execution_count": null,
      "id": "690b8eb0",
      "metadata": {
        "id": "690b8eb0"
      },
      "outputs": [],
      "source": [
        "# index → hold 맵 & 공통 ID\n",
        "idxL = {h[\"hold_index\"]: h for h in holdsL}\n",
        "idxR = {h[\"hold_index\"]: h for h in holdsR}\n",
        "common_ids = sorted(set(idxL.keys()) & set(idxR.keys()))\n",
        "if not common_ids:\n",
        "    print(\"[Warn] 좌/우 공통 hold_index가 없습니다.\")\n",
        "else:\n",
        "    print(f\"[Info] 매칭된 홀드 쌍 수: {len(common_ids)}\")"
      ]
    },
    {
      "cell_type": "code",
      "execution_count": null,
      "id": "a6467a5a",
      "metadata": {
        "id": "a6467a5a"
      },
      "outputs": [],
      "source": [
        "def yaw_pitch_from_X(X, O, y_up_is_negative=True):\n",
        "    v = X - O\n",
        "    vx, vy, vz = float(v[0]), float(v[1]), float(v[2])\n",
        "    yaw   = np.degrees(np.arctan2(vx, vz))\n",
        "    pitch = np.degrees(np.arctan2((-vy if y_up_is_negative else vy), np.hypot(vx, vz)))\n",
        "    return yaw, pitch\n",
        "\n",
        "def triangulate_xy(P1, P2, ptL, ptR):\n",
        "    xl = np.array(ptL, dtype=np.float64).reshape(2,1)\n",
        "    xr = np.array(ptR, dtype=np.float64).reshape(2,1)\n",
        "    Xh = cv2.triangulatePoints(P1, P2, xl, xr)\n",
        "    X  = (Xh[:3] / Xh[3]).reshape(3)  # [X,Y,Z] (mm)\n",
        "    return X\n",
        "\n",
        "def wrap_deg(d): return (d + 180.0) % 360.0 - 180.0\n",
        "\n",
        "def angle_between(v1, v2):\n",
        "    a = np.linalg.norm(v1); b = np.linalg.norm(v2)\n",
        "    if a == 0 or b == 0: return 0.0\n",
        "    cosang = np.clip(np.dot(v1, v2) / (a * b), -1.0, 1.0)\n",
        "    return np.degrees(np.arccos(cosang))"
      ]
    },
    {
      "cell_type": "code",
      "execution_count": null,
      "id": "b217f23c",
      "metadata": {
        "id": "b217f23c"
      },
      "outputs": [],
      "source": [
        "# 매칭 결과 사전 계산(3D, 거리, 각도) — LEFT 원점 기반\n",
        "matched_results = []\n",
        "for hid in common_ids:\n",
        "    Lh = idxL[hid]; Rh = idxR[hid]\n",
        "    X = triangulate_xy(P1, P2, Lh[\"center\"], Rh[\"center\"])\n",
        "    d_left  = float(np.linalg.norm(X - L))            # LEFT 기준 거리\n",
        "    d_line  = float(np.hypot(X[1], X[2]))\n",
        "    yaw_deg, pitch_deg = yaw_pitch_from_X(X, O, Y_UP_IS_NEGATIVE)\n",
        "    matched_results.append({\n",
        "        \"hid\": hid,\n",
        "        \"Lcx\": Lh[\"center\"][0], \"Lcy\": Lh[\"center\"][1],\n",
        "        \"Rcx\": Rh[\"center\"][0], \"Rcy\": Rh[\"center\"][1],\n",
        "        \"color\": Lh[\"color\"],\n",
        "        \"X\": X, \"d_left\": d_left, \"d_line\": d_line,\n",
        "        \"yaw_deg\": yaw_deg, \"pitch_deg\": pitch_deg,\n",
        "    })"
      ]
    },
    {
      "cell_type": "code",
      "execution_count": null,
      "id": "baccffad",
      "metadata": {
        "id": "baccffad"
      },
      "outputs": [],
      "source": [
        "# 연속 인덱스 각도차 (정보용)\n",
        "by_id = {mr[\"hid\"]: mr for mr in matched_results}\n",
        "max_id = max(by_id) if by_id else -1\n",
        "angle_deltas = []\n",
        "for i in range(max_id):\n",
        "    if (i in by_id) and (i+1 in by_id):\n",
        "        a = by_id[i]; b = by_id[i+1]\n",
        "        dyaw   = wrap_deg(b[\"yaw_deg\"]   - a[\"yaw_deg\"])\n",
        "        dpitch = wrap_deg(b[\"pitch_deg\"] - a[\"pitch_deg\"])\n",
        "        v1 = a[\"X\"] - O; v2 = b[\"X\"] - O\n",
        "        d3d = angle_between(v1, v2)\n",
        "        angle_deltas.append((i, i+1, dyaw, dpitch, d3d))\n",
        "\n",
        "\n",
        "    print(\"\\n[ΔAngles] (i -> i+1):  Δyaw(deg), Δpitch(deg), 3D_angle(deg)\")\n",
        "    for i, j, dyaw, dpitch, d3d in angle_deltas:\n",
        "        print(f\"  {i:>2}→{j:<2} :  {dyaw:+6.2f}°, {dpitch:+6.2f}°, {d3d:6.2f}°\")"
      ]
    }
  ],
  "metadata": {
    "language_info": {
      "name": "python"
    },
    "colab": {
      "provenance": []
    },
    "kernelspec": {
      "name": "python3",
      "display_name": "Python 3"
    }
  },
  "nbformat": 4,
  "nbformat_minor": 5
}