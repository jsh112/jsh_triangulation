{
 "cells": [
  {
   "cell_type": "code",
   "execution_count": null,
   "id": "bb9d2456",
   "metadata": {
    "vscode": {
     "languageId": "plaintext"
    }
   },
   "outputs": [],
   "source": [
    "from google.colab import drive\n",
    "drive.mount('/content/drive')"
   ]
  },
  {
   "cell_type": "code",
   "execution_count": null,
   "id": "f083e426",
   "metadata": {
    "vscode": {
     "languageId": "plaintext"
    }
   },
   "outputs": [],
   "source": [
    "import os"
   ]
  },
  {
   "cell_type": "code",
   "execution_count": null,
   "id": "3a914688",
   "metadata": {
    "vscode": {
     "languageId": "plaintext"
    }
   },
   "outputs": [],
   "source": [
    "base_dir = '/content/drive/MyDrive/yolo_project'\n",
    "model_path = os.path.join(base_dir, 'best.pt')\n",
    "images_dir = os.path.join(base_dir, 'images')\n",
    "videos_dir = os.path.join(base_dir, 'videos')"
   ]
  },
  {
   "cell_type": "code",
   "execution_count": null,
   "id": "f9f833b8",
   "metadata": {
    "vscode": {
     "languageId": "plaintext"
    }
   },
   "outputs": [],
   "source": [
    "print(\"YOLO 모델:\", model_path)\n",
    "print(\"이미지 파일:\", os.listdir(images_dir))\n",
    "print(\"영상 파일:\", os.listdir(videos_dir))"
   ]
  },
  {
   "cell_type": "code",
   "execution_count": null,
   "id": "4982da0d",
   "metadata": {
    "vscode": {
     "languageId": "plaintext"
    }
   },
   "outputs": [],
   "source": [
    "!pip install ultralytics --quiet"
   ]
  },
  {
   "cell_type": "code",
   "execution_count": null,
   "id": "d69e6735",
   "metadata": {
    "vscode": {
     "languageId": "plaintext"
    }
   },
   "outputs": [],
   "source": [
    "from ultralytics import YOLO\n",
    "\n",
    "# YOLO 모델 로드\n",
    "model = YOLO(model_path)\n",
    "\n",
    "# 5️⃣ 이미지 예측\n",
    "sample_image = os.path.join(images_dir, 'img1.jpg')\n",
    "results = model.predict(source=sample_image, show=True)\n",
    "\n",
    "# 6️⃣ 비디오 예측\n",
    "sample_video = os.path.join(videos_dir, 'vid1.mp4')\n",
    "results_video = model.predict(source=sample_video, show=True)"
   ]
  },
  {
   "cell_type": "code",
   "execution_count": null,
   "id": "f5adb8d6",
   "metadata": {
    "vscode": {
     "languageId": "plaintext"
    }
   },
   "outputs": [],
   "source": []
  }
 ],
 "metadata": {
  "language_info": {
   "name": "python"
  }
 },
 "nbformat": 4,
 "nbformat_minor": 5
}
